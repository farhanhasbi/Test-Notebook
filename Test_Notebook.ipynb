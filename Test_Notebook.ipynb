{
 "cells": [
  {
   "cell_type": "markdown",
   "id": "5cdd33ce",
   "metadata": {},
   "source": [
    "# My Jupyter Notebook on IBM Watson Studio"
   ]
  },
  {
   "cell_type": "markdown",
   "id": "75eac398",
   "metadata": {},
   "source": [
    "**Farhan Hasbi** "
   ]
  },
  {
   "cell_type": "markdown",
   "id": "10ada714",
   "metadata": {},
   "source": [
    "*I am interested in data science because it is the most in demand job in 2022* "
   ]
  },
  {
   "cell_type": "markdown",
   "id": "b3cb0254",
   "metadata": {},
   "source": [
    "### For each \"Learning Data Science on IBM\" 10x"
   ]
  },
  {
   "cell_type": "code",
   "execution_count": 10,
   "id": "5d448fb3",
   "metadata": {},
   "outputs": [
    {
     "name": "stdout",
     "output_type": "stream",
     "text": [
      "1 Learning Data Science on IBM\n",
      "2 Learning Data Science on IBM\n",
      "3 Learning Data Science on IBM\n",
      "4 Learning Data Science on IBM\n",
      "5 Learning Data Science on IBM\n",
      "6 Learning Data Science on IBM\n",
      "7 Learning Data Science on IBM\n",
      "8 Learning Data Science on IBM\n",
      "9 Learning Data Science on IBM\n",
      "10 Learning Data Science on IBM\n"
     ]
    }
   ],
   "source": [
    "for x in range(10):\n",
    "  x += 1\n",
    "  print(x,\"Learning Data Science on IBM\")"
   ]
  },
  {
   "cell_type": "markdown",
   "id": "7436c031",
   "metadata": {},
   "source": [
    "**bulleted list**\n",
    "- Data Analyst\n",
    "- Data Engineer\n",
    "- Data Scientist\n",
    "\n",
    "**Tables**\n",
    "<table ><tr><th > Name <th><th> Age <th><th> Interest <tr><tr>\n",
    "<tr><td> Farhan Hasbi <td><td> 20 <td><td> Programming <td><tr><table>\n",
    "    \n",
    "    \n",
    "**Links**\n",
    "[click me](https://www.coursera.org/)\n",
    "\n",
    "\n"
   ]
  }
 ],
 "metadata": {
  "kernelspec": {
   "display_name": "Python 3 (ipykernel)",
   "language": "python",
   "name": "python3"
  },
  "language_info": {
   "codemirror_mode": {
    "name": "ipython",
    "version": 3
   },
   "file_extension": ".py",
   "mimetype": "text/x-python",
   "name": "python",
   "nbconvert_exporter": "python",
   "pygments_lexer": "ipython3",
   "version": "3.11.0"
  }
 },
 "nbformat": 4,
 "nbformat_minor": 5
}
